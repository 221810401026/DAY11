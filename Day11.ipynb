{
 "cells": [
  {
   "cell_type": "markdown",
   "metadata": {},
   "source": [
    "### Regular Expression\n",
    "* Pattern Matching\n",
    "* Patterns(re) Package\n",
    "* [0-9] -- Any digit Matching\n",
    "      -- Two digit number ((^[0-9]{2}$)-Five DigitNumber(0-9){5}$)"
   ]
  },
  {
   "cell_type": "code",
   "execution_count": 4,
   "metadata": {},
   "outputs": [
    {
     "name": "stdout",
     "output_type": "stream",
     "text": [
      "True\n",
      "False\n"
     ]
    }
   ],
   "source": [
    "# Function to test Two Digit Number\n",
    "import re\n",
    "def twodigitmatching(n):\n",
    "    pattern = '^[0-9]{2}$'\n",
    "    n = str(n)\n",
    "    if re.match(pattern,n):\n",
    "        return True\n",
    "    return False\n",
    "print(twodigitmatching(12))\n",
    "print(twodigitmatching(123))"
   ]
  },
  {
   "cell_type": "code",
   "execution_count": null,
   "metadata": {},
   "outputs": [],
   "source": [
    "###  Regular Expression for Characters\n",
    "* [a-z] -- Any lower case Characters.\n",
    "* [A-Z] -- Any Upper Case Characters.\n",
    "* [a-z] -- {5}$ - It Accepts 5 Lowercase Characters.\n",
    "* [A-Z] -- {6}$ - It Accepts 6 Uppercase Characters."
   ]
  },
  {
   "cell_type": "code",
   "execution_count": 8,
   "metadata": {},
   "outputs": [
    {
     "name": "stdout",
     "output_type": "stream",
     "text": [
      "True\n",
      "False\n"
     ]
    }
   ],
   "source": [
    "# Function to define to test username having 8 characters\n",
    "# Upper Case and Lower\n",
    "def testusername(s):\n",
    "    pattern = '^[a-zA-Z]{8}$'\n",
    "    if re.match(pattern,s):\n",
    "        return True\n",
    "    return False\n",
    "print(testusername('GitamHYD'))\n",
    "print(testusername('Gitam188'))"
   ]
  },
  {
   "cell_type": "markdown",
   "metadata": {},
   "source": [
    "## Regular Expressin To Match INDIAN Mobile Number\n",
    "- 10 Digits\n",
    "- (First digit will be [6-9] and remaining 9 digits will be [0-9])\n",
    "* Example - 9988774455\n",
    "* RE - ^[6-9][0-9]{9}$\n",
    "* Example - 09988774455"
   ]
  },
  {
   "cell_type": "code",
   "execution_count": 3,
   "metadata": {},
   "outputs": [
    {
     "ename": "SyntaxError",
     "evalue": "invalid syntax (<ipython-input-3-c1a3b014abd9>, line 1)",
     "output_type": "error",
     "traceback": [
      "\u001b[1;36m  File \u001b[1;32m\"<ipython-input-3-c1a3b014abd9>\"\u001b[1;36m, line \u001b[1;32m1\u001b[0m\n\u001b[1;33m    * Regular Expression to validate the Roll number\u001b[0m\n\u001b[1;37m                       ^\u001b[0m\n\u001b[1;31mSyntaxError\u001b[0m\u001b[1;31m:\u001b[0m invalid syntax\n"
     ]
    }
   ],
   "source": [
    "* Regular Expression to validate the Roll number\n",
    "  * Example : 152A0501\n",
    "  * Example : 152A0401\n",
    "  * Example : 152A0302\n",
    "* Regular Expressiona to validate the password\n",
    "  * Parameters: Len min of 6 characters and max of 15 characters\n",
    "  *  Accept Lower case,Upper case,Digit spl char(@,#,!)   \n"
   ]
  },
  {
   "cell_type": "code",
   "execution_count": 2,
   "metadata": {},
   "outputs": [
    {
     "data": {
      "text/plain": [
       "True"
      ]
     },
     "execution_count": 2,
     "metadata": {},
     "output_type": "execute_result"
    }
   ],
   "source": [
    "# Function to Validate The INDIAN Mobile Number\n",
    "def phonenumbervalidation(phone):\n",
    "    pattern = '^[6-9][0-9]{9}$|^[0][6-9][0-9]{9}$|^[+][9][1][6-9][0-9]{9}$'\n",
    "    phone = str(phone)\n",
    "    if re.match(pattern,phone):\n",
    "        return True\n",
    "    return False \n",
    "phonenumbervalidation('+919988774455')"
   ]
  },
  {
   "cell_type": "code",
   "execution_count": 14,
   "metadata": {},
   "outputs": [
    {
     "name": "stdout",
     "output_type": "stream",
     "text": [
      "enter roll number 1521A2012\n"
     ]
    },
    {
     "data": {
      "text/plain": [
       "True"
      ]
     },
     "execution_count": 14,
     "metadata": {},
     "output_type": "execute_result"
    }
   ],
   "source": [
    "# Function to test roll number matching\n",
    "import re\n",
    "def match(n):\n",
    "    pattern='^[1][5][2][1][A][0-9]{4}$'\n",
    "    n=str(n)\n",
    "    if re.match(pattern,n):\n",
    "        return True\n",
    "    return False\n",
    "n=str(input(\"enter roll number \"))\n",
    "match(n)"
   ]
  },
  {
   "cell_type": "code",
   "execution_count": 5,
   "metadata": {},
   "outputs": [
    {
     "name": "stdout",
     "output_type": "stream",
     "text": [
      "enter a number Az789879\n"
     ]
    },
    {
     "data": {
      "text/plain": [
       "True"
      ]
     },
     "execution_count": 5,
     "metadata": {},
     "output_type": "execute_result"
    }
   ],
   "source": [
    "# Function to test password motching\n",
    "import re\n",
    "def match(n):\n",
    "    pattern='^[A-za-z0-9@#!]{6,15}$'\n",
    "    n=str(n)\n",
    "    if re.match(pattern,n):\n",
    "        return True\n",
    "    return False\n",
    "n=str(input(\"enter a number \"))\n",
    "match(n)"
   ]
  },
  {
   "cell_type": "markdown",
   "metadata": {},
   "source": [
    "### Email id validation using Regular Expression\n",
    "- Example :- Username@DomainName.Extension\n",
    "   - Username :-xyz123@gmail.com\n",
    "\n",
    "* Lenght will be [5-14]\n",
    "* No spl characters apart from underscope(_)\n",
    "* Should begin and end with Underscope(_)\n",
    "* Character set:- All digits and lower case\n",
    "\n",
    "  * Domain name:-\n",
    "\n",
    "* lenght wil be [3-18]\n",
    "* no spl characters\n",
    "* Character set:- All digits and lower case\n",
    "\n",
    "  * Extension:- \n",
    "\n",
    "* lenght will be [2-4]\n",
    "* No spl characters  \n",
    "* character set : Lower case characters           "
   ]
  },
  {
   "cell_type": "code",
   "execution_count": 8,
   "metadata": {},
   "outputs": [
    {
     "data": {
      "text/plain": [
       "True"
      ]
     },
     "execution_count": 8,
     "metadata": {},
     "output_type": "execute_result"
    }
   ],
   "source": [
    "def emailidvalidation(email):\n",
    "    pattern = '^[0-9a-z][0-9a-z_.]{5,14}[@][a-z0-9]{3,18}[.][a-z]{2,4}$'\n",
    "    if re.match(pattern,email):\n",
    "        return True\n",
    "    return False\n",
    "emailidvalidation('kvrks13@gmail.com')"
   ]
  },
  {
   "cell_type": "markdown",
   "metadata": {},
   "source": [
    "## Python Turtle\n",
    "- Turtle Graphics"
   ]
  },
  {
   "cell_type": "code",
   "execution_count": null,
   "metadata": {},
   "outputs": [],
   "source": [
    "## Step1 : Make all the turtle package to be imported\n",
    "import turtle\n",
    "## Turtle method creates and returns a new object\n",
    "a1 = turtle.Turtle()\n",
    "## forward() method moves 100 pixels\n",
    "turtle.forward(250)\n",
    "## we are done\n",
    "turtle.done()"
   ]
  },
  {
   "cell_type": "code",
   "execution_count": null,
   "metadata": {},
   "outputs": [],
   "source": [
    "# Line draw in reverse Direction\n",
    "import turtle as t\n",
    "a1 = t.Turtle()\n",
    "t.backward(100)\n",
    "t.done()"
   ]
  },
  {
   "cell_type": "code",
   "execution_count": null,
   "metadata": {},
   "outputs": [],
   "source": [
    "# Draw Square \n",
    "import turtle as t\n",
    "a1 = t.Turtle()\n",
    "a1.forward(150)\n",
    "a1.right(90)\n",
    "a1.forward(150)\n",
    "a1.right(90)\n",
    "a1.forward(150)\n",
    "a1.right(90)\n",
    "a1.forward(150)\n",
    "a1.right(90)\n",
    "t.done()"
   ]
  },
  {
   "cell_type": "code",
   "execution_count": null,
   "metadata": {},
   "outputs": [],
   "source": [
    "# loop statements\n",
    "import turtle as t\n",
    "aa = t.Turtle()\n",
    "for i in range(4):\n",
    "    aa.backward(150)\n",
    "    aa.left(90)\n",
    "t.done()"
   ]
  },
  {
   "cell_type": "code",
   "execution_count": null,
   "metadata": {},
   "outputs": [],
   "source": [
    "# Star\n",
    "import turtle as t\n",
    "aa = t.Turtle()\n",
    "for i in range(40):\n",
    "    aa.backward(50)\n",
    "    aa.left(144)\n",
    "t.done()"
   ]
  },
  {
   "cell_type": "code",
   "execution_count": null,
   "metadata": {},
   "outputs": [],
   "source": [
    "# Spiral Star\n",
    "import turtle as t\n",
    "a1 = t.Turtle()\n",
    "a1.pencolor('blue')\n",
    "for i in range(40):\n",
    "    a1.forward(i*10)\n",
    "    a1.right(144)\n",
    "t.done()\n",
    "    "
   ]
  },
  {
   "cell_type": "code",
   "execution_count": null,
   "metadata": {},
   "outputs": [],
   "source": [
    "# Square spiral help of turtle\n",
    "import turtle as t\n",
    "a1 = t.Turtle()\n",
    "for i in range(250):\n",
    "    a1.forward(i)\n",
    "    a1.left(91)\n",
    "t.done()"
   ]
  },
  {
   "cell_type": "code",
   "execution_count": 3,
   "metadata": {},
   "outputs": [],
   "source": [
    "# Hexagon Spiral\n",
    "from turtle import *\n",
    "colors = ['blue','green','yellow','red','purple']\n",
    "for x in range(360):\n",
    "    pencolor(colors[x%5])\n",
    "    width(x/100 + 1)\n",
    "    forward(x)\n",
    "    right(10)"
   ]
  },
  {
   "cell_type": "code",
   "execution_count": 2,
   "metadata": {},
   "outputs": [],
   "source": [
    "# Setheading(heading)\n",
    "# will change the current direction to the heading angle\n",
    "from turtle import *\n",
    "colors = ['blue','red','orange','yellow','purple']\n",
    "for angle in range(0,360,15):\n",
    "    pencolor(colors[angle%5])\n",
    "    setheading(angle)\n",
    "    forward(100)s\n",
    "    write(str(angle)+ 'o')\n",
    "    backward(100)"
   ]
  },
  {
   "cell_type": "code",
   "execution_count": 7,
   "metadata": {},
   "outputs": [],
   "source": [
    "from turtle import *\n",
    "for i in range(20):\n",
    "    forward(100)\n",
    "    left(90)\n",
    "    forward(10)\n",
    "    left(90)\n",
    "    forward(100)\n",
    "    right(90)\n",
    "    forward(10)\n",
    "    right(90)\n",
    "    for i in range(90):\n",
    "        undo()"
   ]
  },
  {
   "cell_type": "code",
   "execution_count": 2,
   "metadata": {},
   "outputs": [],
   "source": [
    "from turtle import *\n",
    "pensize(50)\n",
    "pencolor('blue')\n",
    "forward(250)\n",
    "pencolor(0,1.0,0)\n",
    "forward(250)\n",
    "pensize(10)\n",
    "goto(-400,50)\n",
    "\n",
    "\n",
    "for red in range(4):\n",
    "    for green in range(4):\n",
    "        for blue in range(4):\n",
    "            pencolor(red/4.0,green/4.0,blue/4.0)\n",
    "            forward(10)"
   ]
  },
  {
   "cell_type": "code",
   "execution_count": null,
   "metadata": {},
   "outputs": [],
   "source": [
    "# Generate a Rectangle\n",
    "# Generate a circle\n",
    "# fill the colors into rectangles and circles\n"
   ]
  }
 ],
 "metadata": {
  "kernelspec": {
   "display_name": "Python 3",
   "language": "python",
   "name": "python3"
  },
  "language_info": {
   "codemirror_mode": {
    "name": "ipython",
    "version": 3
   },
   "file_extension": ".py",
   "mimetype": "text/x-python",
   "name": "python",
   "nbconvert_exporter": "python",
   "pygments_lexer": "ipython3",
   "version": "3.7.3"
  }
 },
 "nbformat": 4,
 "nbformat_minor": 2
}
